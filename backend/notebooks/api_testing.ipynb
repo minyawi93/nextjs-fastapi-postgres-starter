{
 "cells": [
  {
   "cell_type": "code",
   "execution_count": 1,
   "id": "ced18e82",
   "metadata": {},
   "outputs": [
    {
     "name": "stdout",
     "output_type": "stream",
     "text": [
      "🔑 API Keys:\n",
      "   Alice: alice_key_123\n",
      "   Bob: bob_key_456\n",
      "   Charlie: charlie_key_789\n",
      "   Base URL: http://localhost:8000\n"
     ]
    }
   ],
   "source": [
    "import requests\n",
    "import json\n",
    "from datetime import datetime\n",
    "import time\n",
    "import os\n",
    "\n",
    "# from dotenv import load_dotenv\n",
    "# load_dotenv()\n",
    "\n",
    "# For quick testing (without .env file)\n",
    "ALICE_API_KEY = \"alice_key_123\"\n",
    "BOB_API_KEY = \"bob_key_456\"\n",
    "CHARLIE_API_KEY = \"charlie_key_789\"\n",
    "base_url = \"http://localhost:8000\"\n",
    "\n",
    "print(\"🔑 API Keys:\")\n",
    "print(f\"   Alice: {ALICE_API_KEY}\")\n",
    "print(f\"   Bob: {BOB_API_KEY}\")\n",
    "print(f\"   Charlie: {CHARLIE_API_KEY}\")\n",
    "print(f\"   Base URL: {base_url}\")"
   ]
  },
  {
   "cell_type": "code",
   "execution_count": 2,
   "id": "5c8aad14",
   "metadata": {},
   "outputs": [],
   "source": [
    "# headers = {\"X-API-Key\": BOB_API_KEY}\n",
    "headers = {\"X-API-Key\": ALICE_API_KEY}"
   ]
  },
  {
   "cell_type": "code",
   "execution_count": 3,
   "id": "307ee6a0",
   "metadata": {},
   "outputs": [],
   "source": [
    "def print_response(response):\n",
    "    \"\"\"Pretty print API responses\"\"\"\n",
    "    print(f\"Status Code: {response.status_code}\")\n",
    "    print(f\"Headers: {dict(response.headers)}\")\n",
    "    print(\"Response Body:\")\n",
    "    try:\n",
    "        print(json.dumps(response.json(), indent=2))\n",
    "    except:\n",
    "        print(response.text)\n",
    "    print(\"\\n\" + \"=\"*50 + \"\\n\")"
   ]
  },
  {
   "cell_type": "code",
   "execution_count": 4,
   "id": "cc042dd6",
   "metadata": {},
   "outputs": [
    {
     "name": "stdout",
     "output_type": "stream",
     "text": [
      "✅ API is running! You can view the docs at:\n",
      "   http://localhost:8000/docs\n"
     ]
    }
   ],
   "source": [
    "# Test if the API is running\n",
    "try:\n",
    "    response = requests.get(f\"{base_url}/docs\", headers=headers)\n",
    "    if response.status_code == 200:\n",
    "        print(\"✅ API is running! You can view the docs at:\")\n",
    "        print(f\"   {base_url}/docs\")\n",
    "    else:\n",
    "        print(f\"❌ API returned status code: {response.status_code}\")\n",
    "except requests.exceptions.ConnectionError:\n",
    "    print(\"❌ Cannot connect to API. Make sure the backend server is running.\")\n",
    "    print(\"   Run: uvicorn main:app --reload --host 0.0.0.0 --port 8000\")"
   ]
  },
  {
   "cell_type": "code",
   "execution_count": 7,
   "id": "d5a5bde2",
   "metadata": {},
   "outputs": [
    {
     "name": "stdout",
     "output_type": "stream",
     "text": [
      "Testing GET /users/me...\n",
      "Status Code: 200\n",
      "Headers: {'date': 'Sun, 10 Aug 2025 16:39:58 GMT', 'server': 'uvicorn', 'content-length': '25', 'content-type': 'application/json'}\n",
      "Response Body:\n",
      "{\n",
      "  \"id\": 3,\n",
      "  \"name\": \"Charlie\"\n",
      "}\n",
      "\n",
      "==================================================\n",
      "\n",
      "✅ User found: Charlie (ID: 3)\n"
     ]
    }
   ],
   "source": [
    "# Test GET /users/me\n",
    "print(\"Testing GET /users/me...\")\n",
    "response = requests.get(f\"{base_url}/users/me\", headers={\"X-API-Key\": CHARLIE_API_KEY})\n",
    "print_response(response)\n",
    "\n",
    "# Store user info for later tests\n",
    "if response.status_code == 200:\n",
    "    user_data = response.json()\n",
    "    print(f\"✅ User found: {user_data['name']} (ID: {user_data['id']})\")\n",
    "else:\n",
    "    print(\"❌ Failed to get user information\")"
   ]
  },
  {
   "cell_type": "code",
   "execution_count": 10,
   "id": "fa059d6a",
   "metadata": {},
   "outputs": [
    {
     "name": "stdout",
     "output_type": "stream",
     "text": [
      "Testing GET /threads/me...\n",
      "Status Code: 200\n",
      "Headers: {'date': 'Sun, 10 Aug 2025 16:40:57 GMT', 'server': 'uvicorn', 'content-length': '541', 'content-type': 'application/json'}\n",
      "Response Body:\n",
      "{\n",
      "  \"id\": 2,\n",
      "  \"messages\": [\n",
      "    {\n",
      "      \"id\": 3,\n",
      "      \"content\": \"Hello Bob! How can I help you today?\",\n",
      "      \"is_from_user\": false,\n",
      "      \"created_at\": \"2025-08-10T16:38:47.640787\"\n",
      "    },\n",
      "    {\n",
      "      \"id\": 4,\n",
      "      \"content\": \"I'm here to assist you with any questions.\",\n",
      "      \"is_from_user\": false,\n",
      "      \"created_at\": \"2025-08-10T16:38:47.640790\"\n",
      "    },\n",
      "    {\n",
      "      \"id\": 7,\n",
      "      \"content\": \"Hello! This is a test message from the notebook.\",\n",
      "      \"is_from_user\": true,\n",
      "      \"created_at\": \"2025-08-10T16:40:48.348537\"\n",
      "    },\n",
      "    {\n",
      "      \"id\": 8,\n",
      "      \"content\": \"Thank you for the information. How can I be of service?\",\n",
      "      \"is_from_user\": false,\n",
      "      \"created_at\": \"2025-08-10T16:40:48.353674\"\n",
      "    }\n",
      "  ]\n",
      "}\n",
      "\n",
      "==================================================\n",
      "\n",
      "✅ Thread found: ID 2\n",
      "   Number of messages: 4\n",
      "\n",
      "📝 Existing messages:\n",
      "   1. 🤖 Bot: Hello Bob! How can I help you today?\n",
      "   2. 🤖 Bot: I'm here to assist you with any questions.\n",
      "   3. 👤 User: Hello! This is a test message from the notebook.\n",
      "   4. 🤖 Bot: Thank you for the information. How can I be of service?\n"
     ]
    }
   ],
   "source": [
    "# Test GET /threads/me\n",
    "print(\"Testing GET /threads/me...\")\n",
    "response = requests.get(f\"{base_url}/threads/me\", headers={\"X-API-Key\": BOB_API_KEY})\n",
    "print_response(response)\n",
    "\n",
    "# Store thread info for later tests\n",
    "if response.status_code == 200:\n",
    "    thread_data = response.json()\n",
    "    print(f\"✅ Thread found: ID {thread_data['id']}\")\n",
    "    print(f\"   Number of messages: {len(thread_data['messages'])}\")\n",
    "    \n",
    "    # Display existing messages\n",
    "    if thread_data['messages']:\n",
    "        print(\"\\n📝 Existing messages:\")\n",
    "        for i, msg in enumerate(thread_data['messages'], 1):\n",
    "            sender = \"👤 User\" if msg['is_from_user'] else \"🤖 Bot\"\n",
    "            print(f\"   {i}. {sender}: {msg['content']}\")\n",
    "else:\n",
    "    print(\"❌ Failed to get thread information\")"
   ]
  },
  {
   "cell_type": "code",
   "execution_count": 9,
   "id": "d37cdcfd",
   "metadata": {},
   "outputs": [
    {
     "name": "stdout",
     "output_type": "stream",
     "text": [
      "Testing POST /messages...\n",
      "Sending message: Hello! This is a test message from the notebook.\n",
      "Status Code: 200\n",
      "Headers: {'date': 'Sun, 10 Aug 2025 16:40:47 GMT', 'server': 'uvicorn', 'content-length': '302', 'content-type': 'application/json'}\n",
      "Response Body:\n",
      "{\n",
      "  \"user_message\": {\n",
      "    \"id\": 7,\n",
      "    \"content\": \"Hello! This is a test message from the notebook.\",\n",
      "    \"is_from_user\": true,\n",
      "    \"created_at\": \"2025-08-10T16:40:48.348537\"\n",
      "  },\n",
      "  \"bot_message\": {\n",
      "    \"id\": 8,\n",
      "    \"content\": \"Thank you for the information. How can I be of service?\",\n",
      "    \"is_from_user\": false,\n",
      "    \"created_at\": \"2025-08-10T16:40:48.353674\"\n",
      "  }\n",
      "}\n",
      "\n",
      "==================================================\n",
      "\n",
      "✅ Message sent successfully!\n",
      "   User message ID: 7\n",
      "   Bot response ID: 8\n",
      "   Bot response: Thank you for the information. How can I be of service?\n"
     ]
    }
   ],
   "source": [
    "# Test POST /messages\n",
    "print(\"Testing POST /messages...\")\n",
    "\n",
    "# Test message data\n",
    "test_message = {\n",
    "    \"content\": \"Hello! This is a test message from the notebook.\"\n",
    "}\n",
    "\n",
    "print(f\"Sending message: {test_message['content']}\")\n",
    "response = requests.post(\n",
    "    f\"{base_url}/messages\",\n",
    "    json=test_message,\n",
    "    headers={\"Content-Type\": \"application/json\", \"X-API-Key\": BOB_API_KEY}\n",
    ")\n",
    "print_response(response)\n",
    "\n",
    "if response.status_code == 200:\n",
    "    message_data = response.json()\n",
    "    print(\"✅ Message sent successfully!\")\n",
    "    print(f\"   User message ID: {message_data['user_message']['id']}\")\n",
    "    print(f\"   Bot response ID: {message_data['bot_message']['id']}\")\n",
    "    print(f\"   Bot response: {message_data['bot_message']['content']}\")\n",
    "else:\n",
    "    print(\"❌ Failed to send message\")"
   ]
  },
  {
   "cell_type": "code",
   "execution_count": 11,
   "id": "62abc19d",
   "metadata": {},
   "outputs": [
    {
     "name": "stdout",
     "output_type": "stream",
     "text": [
      "Testing multiple messages...\n",
      "\n",
      "--- Message 1: How are you today? ---\n",
      "✅ User: How are you today?\n",
      "🤖 Bot: Thank you for the information. How can I be of service?\n",
      "\n",
      "--- Message 2: What's the weather like? ---\n",
      "✅ User: What's the weather like?\n",
      "🤖 Bot: I understand what you're saying. How can I help you further?\n",
      "\n",
      "--- Message 3: Tell me a joke ---\n",
      "✅ User: Tell me a joke\n",
      "🤖 Bot: I understand what you're saying. How can I help you further?\n",
      "\n",
      "--- Message 4: What can you help me with? ---\n",
      "✅ User: What can you help me with?\n",
      "🤖 Bot: Thanks for sharing that with me. Is there anything specific you'd like to know?\n"
     ]
    }
   ],
   "source": [
    "# Test multiple messages\n",
    "test_messages = [\n",
    "    \"How are you today?\",\n",
    "    \"What's the weather like?\",\n",
    "    \"Tell me a joke\",\n",
    "    \"What can you help me with?\"\n",
    "]\n",
    "\n",
    "print(\"Testing multiple messages...\")\n",
    "for i, message_content in enumerate(test_messages, 1):\n",
    "    print(f\"\\n--- Message {i}: {message_content} ---\")\n",
    "    \n",
    "    response = requests.post(\n",
    "        f\"{base_url}/messages\",\n",
    "        json={\"content\": message_content},\n",
    "        headers={\"Content-Type\": \"application/json\", \"X-API-Key\": CHARLIE_API_KEY}\n",
    "    )\n",
    "    \n",
    "    if response.status_code == 200:\n",
    "        data = response.json()\n",
    "        print(f\"✅ User: {data['user_message']['content']}\")\n",
    "        print(f\"🤖 Bot: {data['bot_message']['content']}\")\n",
    "    else:\n",
    "        print(f\"❌ Failed to send message {i}\")\n",
    "    \n",
    "    # Small delay between messages\n",
    "    time.sleep(0.5)"
   ]
  },
  {
   "cell_type": "code",
   "execution_count": 12,
   "id": "e6f4b836",
   "metadata": {},
   "outputs": [
    {
     "name": "stdout",
     "output_type": "stream",
     "text": [
      "Verifying message persistence...\n",
      "✅ Thread has 10 total messages\n",
      "\n",
      "📝 Complete conversation history:\n",
      "    1. [2025-08-10T16:38:47] 🤖 Bot: Hello Charlie! How can I help you today?\n",
      "    2. [2025-08-10T16:38:47] 🤖 Bot: I'm here to assist you with any questions.\n",
      "    3. [2025-08-10T16:41:24] 👤 User: How are you today?\n",
      "    4. [2025-08-10T16:41:24] 🤖 Bot: Thank you for the information. How can I be of service?\n",
      "    5. [2025-08-10T16:41:24] 👤 User: What's the weather like?\n",
      "    6. [2025-08-10T16:41:24] 🤖 Bot: I understand what you're saying. How can I help you further?\n",
      "    7. [2025-08-10T16:41:25] 👤 User: Tell me a joke\n",
      "    8. [2025-08-10T16:41:25] 🤖 Bot: I understand what you're saying. How can I help you further?\n",
      "    9. [2025-08-10T16:41:25] 👤 User: What can you help me with?\n",
      "   10. [2025-08-10T16:41:25] 🤖 Bot: Thanks for sharing that with me. Is there anything specific you'd like to know?\n"
     ]
    }
   ],
   "source": [
    "# Verify message persistence\n",
    "print(\"Verifying message persistence...\")\n",
    "response = requests.get(f\"{base_url}/threads/me\", headers={\"X-API-Key\": CHARLIE_API_KEY})\n",
    "\n",
    "if response.status_code == 200:\n",
    "    thread_data = response.json()\n",
    "    print(f\"✅ Thread has {len(thread_data['messages'])} total messages\")\n",
    "    \n",
    "    print(\"\\n📝 Complete conversation history:\")\n",
    "    for i, msg in enumerate(thread_data['messages'], 1):\n",
    "        sender = \"👤 User\" if msg['is_from_user'] else \"🤖 Bot\"\n",
    "        timestamp = msg['created_at'][:19]  # Show just date and time\n",
    "        print(f\"   {i:2d}. [{timestamp}] {sender}: {msg['content']}\")\n",
    "else:\n",
    "    print(\"❌ Failed to verify message persistence\")"
   ]
  },
  {
   "cell_type": "code",
   "execution_count": 10,
   "id": "cf0b0299",
   "metadata": {},
   "outputs": [
    {
     "name": "stdout",
     "output_type": "stream",
     "text": [
      "Testing error cases...\n",
      "\n",
      "--- Test 1: Empty message ---\n",
      "Status: 200\n",
      "Response: {\"user_message\":{\"id\":37,\"content\":\"\",\"is_from_user\":true,\"created_at\":\"2025-08-10T15:43:34.309831\"},\"bot_message\":{\"id\":38,\"content\":\"That sounds fascinating! I'd love to hear more details.\",\"is_from_user\":false,\"created_at\":\"2025-08-10T15:43:34.311534\"}}\n",
      "\n",
      "--- Test 2: Missing content field ---\n",
      "Status: 422\n",
      "Response: {\"detail\":[{\"type\":\"missing\",\"loc\":[\"body\",\"content\"],\"msg\":\"Field required\",\"input\":{},\"url\":\"https://errors.pydantic.dev/2.5/v/missing\"}]}\n",
      "\n",
      "--- Test 3: Non-existent endpoint ---\n",
      "Status: 404\n",
      "Response: {\"detail\":\"Not Found\"}\n"
     ]
    }
   ],
   "source": [
    "# Test error cases\n",
    "print(\"Testing error cases...\")\n",
    "\n",
    "# Test 1: Empty message\n",
    "print(\"\\n--- Test 1: Empty message ---\")\n",
    "response = requests.post(\n",
    "    f\"{base_url}/messages\",\n",
    "    json={\"content\": \"\"},\n",
    "    headers={\"Content-Type\": \"application/json\"}\n",
    ")\n",
    "print(f\"Status: {response.status_code}\")\n",
    "print(f\"Response: {response.text}\")\n",
    "\n",
    "# Test 2: Missing content field\n",
    "print(\"\\n--- Test 2: Missing content field ---\")\n",
    "response = requests.post(\n",
    "    f\"{base_url}/messages\",\n",
    "    json={},\n",
    "    headers={\"Content-Type\": \"application/json\"}\n",
    ")\n",
    "print(f\"Status: {response.status_code}\")\n",
    "print(f\"Response: {response.text}\")\n",
    "\n",
    "# Test 3: Non-existent endpoint\n",
    "print(\"\\n--- Test 3: Non-existent endpoint ---\")\n",
    "response = requests.get(f\"{base_url}/nonexistent\")\n",
    "print(f\"Status: {response.status_code}\")\n",
    "print(f\"Response: {response.text}\")"
   ]
  },
  {
   "cell_type": "code",
   "execution_count": null,
   "id": "b0dfbed6",
   "metadata": {},
   "outputs": [],
   "source": []
  }
 ],
 "metadata": {
  "kernelspec": {
   "display_name": "base",
   "language": "python",
   "name": "python3"
  },
  "language_info": {
   "codemirror_mode": {
    "name": "ipython",
    "version": 3
   },
   "file_extension": ".py",
   "mimetype": "text/x-python",
   "name": "python",
   "nbconvert_exporter": "python",
   "pygments_lexer": "ipython3",
   "version": "3.12.2"
  }
 },
 "nbformat": 4,
 "nbformat_minor": 5
}
